{
 "cells": [
  {
   "cell_type": "code",
   "execution_count": 3,
   "metadata": {},
   "outputs": [
    {
     "name": "stdout",
     "output_type": "stream",
     "text": [
      "Saleem\n",
      "Qureshi\n",
      "32\n",
      "Hydeabad\n",
      "Muhammad Ali\n",
      "Shaikh\n",
      "30\n",
      "Hydeabad\n"
     ]
    }
   ],
   "source": [
    "person = {\n",
    "    0:{\n",
    "        \"first_name\": \"Saleem\", \n",
    "        \"last_name\": \"Qureshi\",\n",
    "        \"age\": 32, \n",
    "        \"city\": \"Hydeabad\"    \n",
    "    },\n",
    "    \n",
    "    1:{\n",
    "        \"first_name\": \"Muhammad Ali\", \n",
    "        \"last_name\": \"Shaikh\",\n",
    "        \"age\": 30, \n",
    "        \"city\": \"Hydeabad\" \n",
    "    }\n",
    "        }\n",
    "\n",
    "i=0\n",
    "for persons in person:\n",
    "    print (person[i][\"first_name\"])\n",
    "    print (person[i][\"last_name\"] )\n",
    "    print (person[i][\"age\"] )\n",
    "    print (person[i][\"city\"] )\n",
    "    i+=1\n",
    "\n",
    "person[0].update({\"qualification\": \"MSc\"})\n",
    "person[1].update({\"qualification\": \"MSc\"})\n",
    "del person\n",
    "#print (person)\n"
   ]
  },
  {
   "cell_type": "code",
   "execution_count": 4,
   "metadata": {},
   "outputs": [
    {
     "name": "stdout",
     "output_type": "stream",
     "text": [
      "Khi [Pakistan]\n",
      "approx: Poppulation:  11 Million.\n",
      "Fact about it: City of Lights \n",
      "\n",
      "Isb [Pakistan]\n",
      "approx: Poppulation:  0.6 Million.\n",
      "Fact about it: Green & Peaceful City \n",
      "\n",
      "Lhr [Pakistan]\n",
      "approx: Poppulation:  6.3 Million.\n",
      "Fact about it: City Of Food Lovers \n",
      "\n"
     ]
    }
   ],
   "source": [
    " cities = {\n",
    "    \"Khi\":\n",
    "       {\n",
    "           \"country\": \"Pakistan\",\n",
    "           \"population\": \"11 Million\",\n",
    "           \"fact\": \"City of Lights\"\n",
    "       },\n",
    "    \"Isb\":\n",
    "       {\n",
    "           \"country\": \"Pakistan\",\n",
    "           \"population\": \"0.6 Million\",\n",
    "           \"fact\": \"Green & Peaceful City\"\n",
    "       },\n",
    "    \"Lhr\":\n",
    "       {\n",
    "           \"country\": \"Pakistan\",\n",
    "           \"population\": \"6.3 Million\",\n",
    "           \"fact\": \"City Of Food Lovers\"\n",
    "       }\n",
    "    }\n",
    "\n",
    "for cityKey, cityValue in cities.items():\n",
    "    print(cityKey + \" [\" + cityValue[\"country\"] + \"]\")\n",
    "    print(\"approx: Poppulation:  \" + str(cityValue[\"population\"]) + \".\")\n",
    "    print(\"Fact about it: \" + cityValue[\"fact\"] + \" \\n\")"
   ]
  },
  {
   "cell_type": "code",
   "execution_count": 5,
   "metadata": {},
   "outputs": [
    {
     "name": "stdout",
     "output_type": "stream",
     "text": [
      "Verify the age for ticket: 88\n",
      "Cost $15\n",
      "\n",
      "\n",
      "Do you want to check another? y\n",
      "Verify the age for ticket: 99\n",
      "Cost $15\n",
      "\n",
      "\n",
      "Do you want to check another? n\n"
     ]
    }
   ],
   "source": [
    "a=\"Y\"\n",
    "while a.upper()==\"Y\":\n",
    "    age=int(input(\"Verify the age for ticket: \"))\n",
    "    if age<=3:\n",
    "        price=\"Free of Cost\"\n",
    "    elif age >3 and age<=12:\n",
    "        price=\"Cost $10\"\n",
    "    elif age>12:\n",
    "        price=\"Cost $15\"\n",
    "    \n",
    "    print (price)\n",
    "    print (\"\\n\")\n",
    "\n",
    "    a=input(\"Do you want to check another? \")\n",
    "    if a.upper()==\"N\":\n",
    "        break"
   ]
  },
  {
   "cell_type": "code",
   "execution_count": 6,
   "metadata": {},
   "outputs": [
    {
     "name": "stdout",
     "output_type": "stream",
     "text": [
      "One of my favourite book is: Alice in Wonderland\n"
     ]
    }
   ],
   "source": [
    "def favorite_book(title):\n",
    "    book=\"One of my favourite book is: \" + title\n",
    "    print(book)\n",
    "    \n",
    "favorite_book(\"Alice in Wonderland\")"
   ]
  },
  {
   "cell_type": "code",
   "execution_count": 8,
   "metadata": {},
   "outputs": [
    {
     "name": "stdout",
     "output_type": "stream",
     "text": [
      "Guess the correct number: 5\n",
      "Oops the number was greater than your guess: \n",
      "Guess the correct number: 15\n",
      "Oops the number was greater than your guess: \n",
      "Guess the correct number: 25\n",
      "Oops the number was greater than your guess: \n"
     ]
    }
   ],
   "source": [
    "from random import randrange\n",
    "i=1\n",
    "r=randrange(30)\n",
    "while i<=3:\n",
    "    a=int(input(\"Guess the correct number: \"))\n",
    "    i+=1\n",
    "    \n",
    "    if (r==a):\n",
    "        print(\"Correct Guess, you won the game!\")\n",
    "        break\n",
    "    else:\n",
    "        if r>a:\n",
    "            print(\"Oops the number was greater than your guess: \")\n",
    "        else:\n",
    "            print(\"Oops the number was less than your guess: \")"
   ]
  },
  {
   "cell_type": "code",
   "execution_count": null,
   "metadata": {},
   "outputs": [],
   "source": []
  }
 ],
 "metadata": {
  "kernelspec": {
   "display_name": "Python 3",
   "language": "python",
   "name": "python3"
  },
  "language_info": {
   "codemirror_mode": {
    "name": "ipython",
    "version": 3
   },
   "file_extension": ".py",
   "mimetype": "text/x-python",
   "name": "python",
   "nbconvert_exporter": "python",
   "pygments_lexer": "ipython3",
   "version": "3.7.4"
  }
 },
 "nbformat": 4,
 "nbformat_minor": 2
}
