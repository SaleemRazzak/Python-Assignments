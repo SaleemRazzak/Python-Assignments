{
 "cells": [
  {
   "cell_type": "code",
   "execution_count": 1,
   "metadata": {},
   "outputs": [
    {
     "name": "stdout",
     "output_type": "stream",
     "text": [
      "Twinkle, twinkle, little star,\n",
      "\tHow I wonder what you are!\n",
      "\t\tUp above the world so high,\n",
      "\t\tLike a diamond in the sky.\n",
      "Twinkle, twinkle, little star,\n",
      "\tHow I wonder what you are\n"
     ]
    }
   ],
   "source": [
    "print(\"Twinkle, twinkle, little star,\")\n",
    "print(\"\\tHow I wonder what you are!\")\n",
    "print(\"\\t\\tUp above the world so high,\")\n",
    "print(\"\\t\\tLike a diamond in the sky.\")\n",
    "print(\"Twinkle, twinkle, little star,\")\n",
    "print(\"\\tHow I wonder what you are\")"
   ]
  },
  {
   "cell_type": "code",
   "execution_count": 2,
   "metadata": {},
   "outputs": [
    {
     "name": "stdout",
     "output_type": "stream",
     "text": [
      "3.7.4 (default, Aug  9 2019, 18:34:13) [MSC v.1915 64 bit (AMD64)]\n"
     ]
    }
   ],
   "source": [
    "import sys\n",
    "print (sys.version)"
   ]
  },
  {
   "cell_type": "code",
   "execution_count": 4,
   "metadata": {},
   "outputs": [
    {
     "name": "stdout",
     "output_type": "stream",
     "text": [
      "Date and Time:  2019-11-26 00:36:41.462341\n"
     ]
    }
   ],
   "source": [
    "from datetime import datetime\n",
    "dt = datetime.now()\n",
    " \n",
    "print(\"Date and Time: \", dt)"
   ]
  },
  {
   "cell_type": "code",
   "execution_count": 5,
   "metadata": {},
   "outputs": [
    {
     "name": "stdout",
     "output_type": "stream",
     "text": [
      "Enter the Radius of Circle\t4\n",
      "Area of Circle is:\t 50.24\n"
     ]
    }
   ],
   "source": [
    "r=input(\"Enter the Radius of Circle\\t\")\n",
    "area=3.14 * int(r) * int(r)\n",
    "print (\"Area of Circle is:\\t\", area) "
   ]
  },
  {
   "cell_type": "code",
   "execution_count": 6,
   "metadata": {},
   "outputs": [
    {
     "name": "stdout",
     "output_type": "stream",
     "text": [
      "Enter First Name:\tSaleem\n",
      "Enter Last Name:\tQureshi\n",
      "Qureshi Saleem\n"
     ]
    }
   ],
   "source": [
    "firstName = input(\"Enter First Name:\\t\")\n",
    "lastName = input(\"Enter Last Name:\\t\")\n",
    "print (lastName + \" \" + firstName)"
   ]
  },
  {
   "cell_type": "code",
   "execution_count": 7,
   "metadata": {},
   "outputs": [
    {
     "name": "stdout",
     "output_type": "stream",
     "text": [
      "Enter 1st Number:\t8\n",
      "Enter 2nd Number:\t2\n",
      "Sum of 8 and 2 is 10\n"
     ]
    }
   ],
   "source": [
    "a = int(input(\"Enter 1st Number:\\t\"))\n",
    "b = int(input(\"Enter 2nd Number:\\t\"))\n",
    "print (\"Sum of \" + str(a) + \" and \"+ str(b) + \" is \" + str(a + b) )"
   ]
  },
  {
   "cell_type": "code",
   "execution_count": null,
   "metadata": {},
   "outputs": [],
   "source": []
  }
 ],
 "metadata": {
  "kernelspec": {
   "display_name": "Python 3",
   "language": "python",
   "name": "python3"
  },
  "language_info": {
   "codemirror_mode": {
    "name": "ipython",
    "version": 3
   },
   "file_extension": ".py",
   "mimetype": "text/x-python",
   "name": "python",
   "nbconvert_exporter": "python",
   "pygments_lexer": "ipython3",
   "version": "3.7.4"
  }
 },
 "nbformat": 4,
 "nbformat_minor": 2
}
