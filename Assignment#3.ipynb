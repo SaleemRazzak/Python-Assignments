{
 "cells": [
  {
   "cell_type": "code",
   "execution_count": 1,
   "metadata": {},
   "outputs": [
    {
     "name": "stdout",
     "output_type": "stream",
     "text": [
      "Enter Number 1: 2\n",
      "Enter Number 2: 2\n",
      "2 + 2 = 4\n",
      "2 - 2 = 0\n",
      "2 * 2 = 4\n",
      "2 / 2 = 1.0\n",
      "2 ** 2 = 4\n"
     ]
    }
   ],
   "source": [
    "a = input(\"Enter Number 1: \")\n",
    "b = input(\"Enter Number 2: \")\n",
    "print (a + \" + \" + b + \" = \" + str((int(a) + int(b))))\n",
    "print (a + \" - \" + b + \" = \" + str((int(a) - int(b))))\n",
    "print (a + \" * \" + b + \" = \" + str((int(a) * int(b))))\n",
    "print (a + \" / \" + b + \" = \" + str((int(a) / int(b))))\n",
    "print (a + \" ** \" + b + \" = \" + str((int(a) ** int(b))))"
   ]
  },
  {
   "cell_type": "code",
   "execution_count": 2,
   "metadata": {},
   "outputs": [
    {
     "name": "stdout",
     "output_type": "stream",
     "text": [
      "True\n",
      "True\n",
      "False\n"
     ]
    }
   ],
   "source": [
    "import numbers\n",
    "a = [1, 2, 'A']\n",
    "for i in a:\n",
    "    print (str.isdigit(str(i)))"
   ]
  },
  {
   "cell_type": "code",
   "execution_count": 3,
   "metadata": {},
   "outputs": [
    {
     "name": "stdout",
     "output_type": "stream",
     "text": [
      "{0: 1, 1: 2}\n",
      "{0: 1, 1: 2, 2: 3}\n"
     ]
    }
   ],
   "source": [
    "d = {0:1, 1:2}\n",
    "print(d)\n",
    "d.update({2:3})\n",
    "print(d)"
   ]
  },
  {
   "cell_type": "code",
   "execution_count": 4,
   "metadata": {},
   "outputs": [
    {
     "name": "stdout",
     "output_type": "stream",
     "text": [
      "600\n"
     ]
    }
   ],
   "source": [
    "d = {0: 100, 1: 200, 2: 300}\n",
    "sum = 0\n",
    "for i in d: \n",
    "        sum = sum + d[i] \n",
    "print(sum)"
   ]
  },
  {
   "cell_type": "code",
   "execution_count": 5,
   "metadata": {},
   "outputs": [
    {
     "name": "stdout",
     "output_type": "stream",
     "text": [
      "[2, 5]\n"
     ]
    }
   ],
   "source": [
    "a = [1, 2, 5, 2, 5]\n",
    "duplicate = [] \n",
    "for i in range(len(a)): \n",
    "        k = i + 1\n",
    "        for j in range(k, len(a)): \n",
    "            if a[i] == a[j] and a[i] not in duplicate: \n",
    "                duplicate.append(a[i]) \n",
    "print(duplicate)"
   ]
  },
  {
   "cell_type": "code",
   "execution_count": 6,
   "metadata": {},
   "outputs": [
    {
     "name": "stdout",
     "output_type": "stream",
     "text": [
      "Enter Key Value to search2\n",
      "Key is available in the dictionary\n"
     ]
    }
   ],
   "source": [
    "d = {0: 100, 1: 200, 2: 300}\n",
    "x = int(input(\"Enter Key Value to search\"))\n",
    "if x in d:\n",
    "    print('Key is available in the dictionary')\n",
    "else:\n",
    "    print('Key is not available in the dictionary')"
   ]
  },
  {
   "cell_type": "code",
   "execution_count": null,
   "metadata": {},
   "outputs": [],
   "source": []
  }
 ],
 "metadata": {
  "kernelspec": {
   "display_name": "Python 3",
   "language": "python",
   "name": "python3"
  },
  "language_info": {
   "codemirror_mode": {
    "name": "ipython",
    "version": 3
   },
   "file_extension": ".py",
   "mimetype": "text/x-python",
   "name": "python",
   "nbconvert_exporter": "python",
   "pygments_lexer": "ipython3",
   "version": "3.7.4"
  }
 },
 "nbformat": 4,
 "nbformat_minor": 2
}
