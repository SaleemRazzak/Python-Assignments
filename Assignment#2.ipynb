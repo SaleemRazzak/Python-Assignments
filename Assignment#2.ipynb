{
 "cells": [
  {
   "cell_type": "code",
   "execution_count": 1,
   "metadata": {},
   "outputs": [
    {
     "name": "stdout",
     "output_type": "stream",
     "text": [
      "Enter Marks for C Language [max: 100]: 45\n",
      "Enter Marks for VB.Net [max: 100]: 85\n",
      "Enter Marks for C# [max: 100]: 75\n",
      "Enter Marks for Python [max: 100]: 95\n",
      "Enter Marks for Ruby [max: 100]: 65\n",
      "Total Marks: 365\n",
      "Percentage: 73.0\n",
      "A\n"
     ]
    }
   ],
   "source": [
    "s1 = int(input(\"Enter Marks for C Language [max: 100]: \"))\n",
    "s2 = int(input(\"Enter Marks for VB.Net [max: 100]: \"))\n",
    "s3 = int(input(\"Enter Marks for C# [max: 100]: \"))\n",
    "s4 = int(input(\"Enter Marks for Python [max: 100]: \"))\n",
    "s5 = int(input(\"Enter Marks for Ruby [max: 100]: \"))\n",
    "result = s1 + s2 + s3 + s4 + s5 \n",
    "per = result * 100 / 500\n",
    "print (\"Total Marks: \" + str(result))\n",
    "print (\"Percentage: \" + str(per))\n",
    "if (per >= 80 ):\n",
    "    print (\"A+\")\n",
    "elif (per >=70 and per <80):\n",
    "    print (\"A\")\n",
    "elif (per >=60 and per <70):\n",
    "    print (\"B\")\n",
    "elif (per >=50 and per <60):\n",
    "    print(\"C\")\n",
    "else: \n",
    "    print (\"Fail try to attempt next time!\")     "
   ]
  },
  {
   "cell_type": "code",
   "execution_count": 2,
   "metadata": {},
   "outputs": [
    {
     "name": "stdout",
     "output_type": "stream",
     "text": [
      "Enter any Number4\n",
      "Even Number\n"
     ]
    }
   ],
   "source": [
    "a = int(input(\"Enter any Number\"))\n",
    "if a%2 == 0:\n",
    "    print (\"Even Number\")\n",
    "else:\n",
    "        print (\"Odd Number\")"
   ]
  },
  {
   "cell_type": "code",
   "execution_count": 3,
   "metadata": {},
   "outputs": [
    {
     "name": "stdout",
     "output_type": "stream",
     "text": [
      "Length of the List is:  5\n"
     ]
    }
   ],
   "source": [
    "list = [8, 15, 6, 10, 5]\n",
    "print (\"Length of the List is: \", len(list))"
   ]
  },
  {
   "cell_type": "code",
   "execution_count": 4,
   "metadata": {},
   "outputs": [
    {
     "name": "stdout",
     "output_type": "stream",
     "text": [
      "Length of the List is:  44\n"
     ]
    }
   ],
   "source": [
    "list = [8, 15, 6, 10, 5]\n",
    "print (\"Sum of the List is: \", sum(list))"
   ]
  },
  {
   "cell_type": "code",
   "execution_count": 5,
   "metadata": {},
   "outputs": [
    {
     "name": "stdout",
     "output_type": "stream",
     "text": [
      "Largest Number from the List is:  15\n"
     ]
    }
   ],
   "source": [
    "list = [8, 15, 6, 10, 5]\n",
    "print (\"Largest Number from the List is: \", max(list))"
   ]
  },
  {
   "cell_type": "code",
   "execution_count": 6,
   "metadata": {},
   "outputs": [
    {
     "name": "stdout",
     "output_type": "stream",
     "text": [
      "1\n",
      "1\n",
      "2\n",
      "3\n"
     ]
    }
   ],
   "source": [
    "a = [1, 1, 2, 3, 5, 8, 13, 21, 34, 55, 89]\n",
    "for i in a:\n",
    "    if i<5:\n",
    "        print (i)"
   ]
  },
  {
   "cell_type": "code",
   "execution_count": null,
   "metadata": {},
   "outputs": [],
   "source": []
  }
 ],
 "metadata": {
  "kernelspec": {
   "display_name": "Python 3",
   "language": "python",
   "name": "python3"
  },
  "language_info": {
   "codemirror_mode": {
    "name": "ipython",
    "version": 3
   },
   "file_extension": ".py",
   "mimetype": "text/x-python",
   "name": "python",
   "nbconvert_exporter": "python",
   "pygments_lexer": "ipython3",
   "version": "3.7.4"
  }
 },
 "nbformat": 4,
 "nbformat_minor": 2
}
